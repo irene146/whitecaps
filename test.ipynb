{
 "cells": [
  {
   "cell_type": "code",
   "execution_count": 63,
   "metadata": {},
   "outputs": [],
   "source": [
    "import numpy as np\n",
    "import matplotlib.pyplot as plt\n",
    "import scipy.ndimage as ndi\n",
    "from skimage import io, filters, morphology\n",
    "from skimage.draw import polygon \n",
    "from scipy.ndimage import minimum_filter, gaussian_filter1d  # Added gaussian_filter1d import\n",
    "\n"
   ]
  },
  {
   "cell_type": "code",
   "execution_count": 57,
   "metadata": {},
   "outputs": [],
   "source": [
    "image_path = 'C:/Users/ENV/OneDrive - Plymouth Marine Laboratory/vscode/whitecaps/Stbd_2011_07_03_10_00_00.jpg'"
   ]
  },
  {
   "cell_type": "code",
   "execution_count": 58,
   "metadata": {},
   "outputs": [],
   "source": [
    "im = io.imread(image_path).astype(np.float64)\n"
   ]
  },
  {
   "cell_type": "code",
   "execution_count": 59,
   "metadata": {},
   "outputs": [],
   "source": [
    "im_rg = (im[:,:,0] + im[:,:,1]) / 2\n"
   ]
  },
  {
   "cell_type": "code",
   "execution_count": null,
   "metadata": {},
   "outputs": [],
   "source": [
    "plt.figure(1); plt.imshow(im[:,:,0]); plt.title('Red'); plt.colorbar()\n",
    "plt.figure(2); plt.imshow(im[:,:,1]); plt.title('Green'); plt.colorbar()\n",
    "plt.figure(3); plt.imshow(im[:,:,2]); plt.title('Blue'); plt.colorbar()\n",
    "plt.figure(4); plt.imshow(np.mean(im, axis=2)); plt.title('Grayscale'); plt.colorbar()\n",
    "plt.figure(5); plt.imshow(im_rg); plt.title('Red-Green Average'); plt.colorbar()\n"
   ]
  },
  {
   "cell_type": "code",
   "execution_count": 6,
   "metadata": {},
   "outputs": [],
   "source": [
    "nr, _ = im_rg.shape\n",
    "BW=np.zeros(im_rg.shape, dtype=bool)\n",
    "BW[polygon([nr, 500, nr, nr], [2300, 4000, 4000, 2300], shape=im_rg.shape)] = True\n"
   ]
  },
  {
   "cell_type": "code",
   "execution_count": 7,
   "metadata": {},
   "outputs": [],
   "source": [
    "blank_indices = np.where(BW)\n"
   ]
  },
  {
   "cell_type": "code",
   "execution_count": 8,
   "metadata": {},
   "outputs": [],
   "source": [
    "im_processed = im_rg.copy()\n",
    "im_processed[blank_indices] = 2"
   ]
  },
  {
   "cell_type": "code",
   "execution_count": 9,
   "metadata": {},
   "outputs": [],
   "source": [
    "background = minimum_filter(im_processed, size=150)\n"
   ]
  },
  {
   "cell_type": "code",
   "execution_count": 10,
   "metadata": {},
   "outputs": [],
   "source": [
    "im_processed[blank_indices] = np.nan\n",
    "background[blank_indices] = np.nan\n"
   ]
  },
  {
   "cell_type": "code",
   "execution_count": 11,
   "metadata": {},
   "outputs": [],
   "source": [
    "background_smoothed = filters.gaussian(background, sigma=30)\n",
    "\n",
    "# Subtract background\n",
    "im_subtracted = im_processed - background_smoothed"
   ]
  },
  {
   "cell_type": "code",
   "execution_count": null,
   "metadata": {},
   "outputs": [],
   "source": [
    "plt.figure(1)\n",
    "plt.clf()\n",
    "plt.title('Image without background removed')\n",
    "plt.imshow(im_rg)\n",
    "plt.colorbar()\n",
    "\n",
    "plt.figure(2)\n",
    "plt.clf()\n",
    "plt.title('Image with background removed (Note edge effects of Filter)')\n",
    "plt.imshow(im_subtracted)\n",
    "plt.colorbar()"
   ]
  },
  {
   "cell_type": "code",
   "execution_count": 13,
   "metadata": {},
   "outputs": [],
   "source": [
    "intensity_vector = np.arange(0, np.nanmax(im_subtracted)*0.9, 0.01)\n",
    "'''\n",
    "np.nanmax(im_crop_subtracted): Finds the maximum intensity value in the image, ignoring NaN values.\n",
    "*0.9: Multiplies by 0.9 to avoid extreme outliers at the maximum intensity.\n",
    "np.arange(start, stop, step): Creates a range of intensity thresholds from 0 to 90% of the max intensity with a step size of 0.01. \n",
    "'''\n",
    "\n",
    "# Calculate the PIP\n",
    "hist, bin_edges = np.histogram(im_subtracted[~np.isnan(im_subtracted)], \n",
    "                                bins=intensity_vector)\n",
    "\n",
    "'''\n",
    "Counts how many pixel intensities fall within each range (bin) defined by the intensty vector\n",
    "    Excludes NaN values to ensure valid calculations.\n",
    "np.histogram: Computes the histogram, returning:\n",
    "hist: Counts of pixels in each bin.\n",
    "bin_edges: The boundaries of the bins.\n",
    "'''\n",
    "\n",
    "# Flip to start at highest intensity threshold to lowest\n",
    "hist_reversed = hist[::-1]\n",
    "bin_edges_reversed = bin_edges[::-1]\n",
    "\n",
    "# Get cumulative sum at each successively lower intensity\n",
    "cumulative_sum = np.cumsum(hist_reversed)\n",
    "\n"
   ]
  },
  {
   "cell_type": "code",
   "execution_count": null,
   "metadata": {},
   "outputs": [],
   "source": [
    "plt.plot(cumulative_sum)\n",
    "plt.show()"
   ]
  },
  {
   "cell_type": "code",
   "execution_count": 60,
   "metadata": {},
   "outputs": [],
   "source": [
    "epsilon = 1e-10  # Small constant to prevent division by zero\n",
    "\n",
    "pip = np.gradient(cumulative_sum)/(cumulative_sum+epsilon)\n"
   ]
  },
  {
   "cell_type": "code",
   "execution_count": null,
   "metadata": {},
   "outputs": [],
   "source": []
  },
  {
   "cell_type": "code",
   "execution_count": null,
   "metadata": {},
   "outputs": [],
   "source": [
    "pip_smoothed = filters.gaussian_filter1d(pip, sigma=5)\n",
    "\n",
    "# Calculate first and second derivatives\n",
    "grad_pip = np.gradient(pip_smoothed[::-1]) #reversed bc reversed histogram\n",
    "\n"
   ]
  },
  {
   "cell_type": "code",
   "execution_count": null,
   "metadata": {},
   "outputs": [],
   "source": [
    "plt.plot(grad_pip)\n",
    "plt.show()"
   ]
  },
  {
   "cell_type": "code",
   "execution_count": null,
   "metadata": {},
   "outputs": [],
   "source": [
    "plt.plot(im_subtracted)\n",
    "plt.show()"
   ]
  },
  {
   "cell_type": "code",
   "execution_count": null,
   "metadata": {},
   "outputs": [],
   "source": [
    "# Display image structure\n",
    "plt.figure(3)\n",
    "plt.clf()\n",
    "plt.plot(bin_edges_reversed[:-1], pip, '-ko')\n",
    "plt.plot(bin_edges_reversed[:-1], pip, '-r.')\n",
    "plt.xlabel('Pixel Intensity')\n",
    "plt.ylabel('PIP')\n",
    "\n",
    "\n",
    "\n",
    "# Binary threshold for whitecaps\n",
    "whitecap_mask = im_subtracted >65\n",
    "plt.figure(5)\n",
    "plt.imshow(whitecap_mask, cmap='binary')\n",
    "\n",
    "plt.figure(6)\n",
    "plt.imshow(im_subtracted)\n",
    "\n",
    "plt.show()"
   ]
  }
 ],
 "metadata": {
  "kernelspec": {
   "display_name": "Python 3",
   "language": "python",
   "name": "python3"
  },
  "language_info": {
   "codemirror_mode": {
    "name": "ipython",
    "version": 3
   },
   "file_extension": ".py",
   "mimetype": "text/x-python",
   "name": "python",
   "nbconvert_exporter": "python",
   "pygments_lexer": "ipython3",
   "version": "3.12.3"
  }
 },
 "nbformat": 4,
 "nbformat_minor": 2
}
